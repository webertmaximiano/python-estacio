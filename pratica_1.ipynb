{
 "cells": [
  {
   "cell_type": "code",
   "execution_count": null,
   "id": "3f2e2ad5",
   "metadata": {},
   "outputs": [],
   "source": [
    "a=2"
   ]
  },
  {
   "cell_type": "code",
   "execution_count": 2,
   "id": "55f0f969",
   "metadata": {},
   "outputs": [],
   "source": [
    "b=\"batata\""
   ]
  },
  {
   "cell_type": "code",
   "execution_count": 3,
   "id": "23fe9628",
   "metadata": {},
   "outputs": [],
   "source": [
    "c=[1,2,3]"
   ]
  },
  {
   "cell_type": "code",
   "execution_count": 4,
   "id": "3a97648e",
   "metadata": {},
   "outputs": [
    {
     "name": "stdout",
     "output_type": "stream",
     "text": [
      "O numero e par 2\n"
     ]
    }
   ],
   "source": [
    "if a%2==0:\n",
    "    print('O numero e par', a)"
   ]
  },
  {
   "cell_type": "code",
   "execution_count": 5,
   "id": "8b6d12e6",
   "metadata": {},
   "outputs": [
    {
     "name": "stdout",
     "output_type": "stream",
     "text": [
      "b <- Consoante\n",
      "a <- Vogal\n",
      "t <- Consoante\n",
      "a <- Vogal\n",
      "t <- Consoante\n",
      "a <- Vogal\n"
     ]
    }
   ],
   "source": [
    "for character in b :\n",
    "    if character.lower() in [\"a\",\"e\",\"i\",\"o\",\"u\"] :\n",
    "        print(character, '<- Vogal')\n",
    "    else:\n",
    "        print(character, '<- Consoante')\n",
    "    \n",
    "    "
   ]
  },
  {
   "cell_type": "code",
   "execution_count": 6,
   "id": "5126f1ab",
   "metadata": {},
   "outputs": [],
   "source": [
    "d = [a,b,c]"
   ]
  },
  {
   "cell_type": "code",
   "execution_count": 7,
   "id": "b6f62836",
   "metadata": {},
   "outputs": [
    {
     "name": "stdout",
     "output_type": "stream",
     "text": [
      "===========\n",
      "<class 'int'>\n",
      "===========\n",
      "<class 'str'>\n",
      "===========\n",
      "<class 'list'>\n"
     ]
    }
   ],
   "source": [
    "for i in d:\n",
    "    print('===========')\n",
    "    print(type(i))"
   ]
  },
  {
   "cell_type": "code",
   "execution_count": 8,
   "id": "c464aa1e",
   "metadata": {},
   "outputs": [
    {
     "name": "stdout",
     "output_type": "stream",
     "text": [
      "5\n"
     ]
    }
   ],
   "source": [
    "a=2\n",
    "f=3\n",
    "print(a+f)"
   ]
  },
  {
   "cell_type": "code",
   "execution_count": 9,
   "id": "9a856edd",
   "metadata": {},
   "outputs": [],
   "source": [
    "g= \"-\""
   ]
  },
  {
   "cell_type": "code",
   "execution_count": 11,
   "id": "200c3a24",
   "metadata": {},
   "outputs": [
    {
     "name": "stdout",
     "output_type": "stream",
     "text": [
      "unsupported operand type(s) for +: 'int' and 'str'\n"
     ]
    }
   ],
   "source": [
    "try:\n",
    "    a+g\n",
    "except Exception as e:\n",
    "        print(e)"
   ]
  },
  {
   "cell_type": "code",
   "execution_count": 12,
   "id": "688529e8",
   "metadata": {},
   "outputs": [
    {
     "data": {
      "text/plain": [
       "'2-'"
      ]
     },
     "execution_count": 12,
     "metadata": {},
     "output_type": "execute_result"
    }
   ],
   "source": [
    "str(a)+g"
   ]
  },
  {
   "cell_type": "code",
   "execution_count": 13,
   "id": "975d8c73",
   "metadata": {},
   "outputs": [],
   "source": [
    "c.append(a)"
   ]
  },
  {
   "cell_type": "code",
   "execution_count": 14,
   "id": "69ddf526",
   "metadata": {},
   "outputs": [
    {
     "name": "stdout",
     "output_type": "stream",
     "text": [
      "[1, 2, 3, 2]\n"
     ]
    }
   ],
   "source": [
    "print(c)"
   ]
  },
  {
   "cell_type": "code",
   "execution_count": 15,
   "id": "a8458b56",
   "metadata": {},
   "outputs": [
    {
     "data": {
      "text/plain": [
       "{1, 2, 3}"
      ]
     },
     "execution_count": 15,
     "metadata": {},
     "output_type": "execute_result"
    }
   ],
   "source": [
    "set(c)"
   ]
  },
  {
   "cell_type": "code",
   "execution_count": null,
   "id": "84c90f8c",
   "metadata": {},
   "outputs": [],
   "source": []
  }
 ],
 "metadata": {
  "kernelspec": {
   "display_name": "Python 3 (ipykernel)",
   "language": "python",
   "name": "python3"
  },
  "language_info": {
   "codemirror_mode": {
    "name": "ipython",
    "version": 3
   },
   "file_extension": ".py",
   "mimetype": "text/x-python",
   "name": "python",
   "nbconvert_exporter": "python",
   "pygments_lexer": "ipython3",
   "version": "3.10.6"
  }
 },
 "nbformat": 4,
 "nbformat_minor": 5
}
